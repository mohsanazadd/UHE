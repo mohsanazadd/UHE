{
  "nbformat": 4,
  "nbformat_minor": 0,
  "metadata": {
    "colab": {
      "provenance": [],
      "toc_visible": true,
      "authorship_tag": "ABX9TyNZFUVq3vdaJyLAEXTv/Y1G",
      "include_colab_link": true
    },
    "kernelspec": {
      "name": "python3",
      "display_name": "Python 3"
    },
    "language_info": {
      "name": "python"
    }
  },
  "cells": [
    {
      "cell_type": "markdown",
      "metadata": {
        "id": "view-in-github",
        "colab_type": "text"
      },
      "source": [
        "<a href=\"https://colab.research.google.com/github/mohsanazadd/UHE/blob/master/Advance_OS.ipynb\" target=\"_parent\"><img src=\"https://colab.research.google.com/assets/colab-badge.svg\" alt=\"Open In Colab\"/></a>"
      ]
    },
    {
      "cell_type": "markdown",
      "source": [
        "#**Chepter 1**\n",
        "**Excersie: 3.1**"
      ],
      "metadata": {
        "id": "m0MPNCvX48ty"
      }
    },
    {
      "cell_type": "code",
      "source": [
        "a_azad = \"Hello Mohsan Azad\"\n",
        "print(a_azad)"
      ],
      "metadata": {
        "colab": {
          "base_uri": "https://localhost:8080/"
        },
        "id": "TdA74H3Q5BYq",
        "outputId": "d2d5755d-8e74-4228-d4df-274c2507c205"
      },
      "execution_count": 1,
      "outputs": [
        {
          "output_type": "stream",
          "name": "stdout",
          "text": [
            "Hello Mohsan Azad\n"
          ]
        }
      ]
    }
  ]
}